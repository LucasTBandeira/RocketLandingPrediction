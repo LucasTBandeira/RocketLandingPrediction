{
 "cells": [
  {
   "cell_type": "markdown",
   "metadata": {},
   "source": [
    "### Import Libraries\n"
   ]
  },
  {
   "cell_type": "code",
   "execution_count": 1,
   "metadata": {},
   "outputs": [],
   "source": [
    "import requests\n",
    "import pandas as pd\n",
    "import numpy as np\n",
    "import datetime\n",
    "\n",
    "pd.set_option(\"display.max_columns\", None)\n",
    "pd.set_option(\"display.max_colwidth\", None)"
   ]
  },
  {
   "cell_type": "markdown",
   "metadata": {},
   "source": [
    "### Auxiliary Functions\n",
    "\n",
    "Here, a set of auxiliary functions is provided to assist in utilizing the API for extracting the required information.\n"
   ]
  },
  {
   "cell_type": "code",
   "execution_count": 2,
   "metadata": {},
   "outputs": [],
   "source": [
    "# Takes the dataset and uses the rockets endpoint to call the API and append the 'name' column to the list\n",
    "def getBoosterVersion(data):\n",
    "    global BoosterVersion\n",
    "    for x in data[\"rocket\"]:\n",
    "        if x:\n",
    "            response = requests.get(\n",
    "                \"https://api.spacexdata.com/v4/rockets/\" + str(x)\n",
    "            ).json()\n",
    "            BoosterVersion.append(response[\"name\"])"
   ]
  },
  {
   "cell_type": "code",
   "execution_count": 3,
   "metadata": {},
   "outputs": [],
   "source": [
    "# Takes the dataset and uses the launchpad endpoint to call the API and append the 'longitude', 'latitude' and 'name' columns to the list\n",
    "def getLaunchSite(data):\n",
    "    global LaunchSite, Longitude, Latitude\n",
    "    for x in data[\"launchpad\"]:\n",
    "        if x:\n",
    "            response = requests.get(\n",
    "                \"https://api.spacexdata.com/v4/launchpads/\" + str(x)\n",
    "            ).json()\n",
    "            Longitude.append(response[\"longitude\"])\n",
    "            Latitude.append(response[\"latitude\"])\n",
    "            LaunchSite.append(response[\"name\"])"
   ]
  },
  {
   "cell_type": "code",
   "execution_count": 4,
   "metadata": {},
   "outputs": [],
   "source": [
    "# Takes the dataset and uses the payloads endpoint to call the API and append the 'mass_kg' and 'orbit' columns to the lists\n",
    "def getPayloadData(data):\n",
    "    global PayloadMass, Orbit\n",
    "    for load in data[\"payloads\"]:\n",
    "        if load:\n",
    "            response = requests.get(\n",
    "                \"https://api.spacexdata.com/v4/payloads/\" + load\n",
    "            ).json()\n",
    "            PayloadMass.append(response[\"mass_kg\"])\n",
    "            Orbit.append(response[\"orbit\"])"
   ]
  },
  {
   "cell_type": "code",
   "execution_count": 5,
   "metadata": {},
   "outputs": [],
   "source": [
    "# Takes the dataset and uses the cores endpoint to call the API and append the data to the lists\n",
    "def getCoreData(data):\n",
    "    global Block, ReusedCount, Serial, Outcome, Flights, GridFins, Reused, Legs, LandingPad\n",
    "    for core in data[\"cores\"]:\n",
    "        if core[\"core\"] != None:\n",
    "            response = requests.get(\n",
    "                \"https://api.spacexdata.com/v4/cores/\" + core[\"core\"]\n",
    "            ).json()\n",
    "            Block.append(response[\"block\"])\n",
    "            ReusedCount.append(response[\"reuse_count\"])\n",
    "            Serial.append(response[\"serial\"])\n",
    "        else:\n",
    "            Block.append(None)\n",
    "            ReusedCount.append(None)\n",
    "            Serial.append(None)\n",
    "        Outcome.append(str(core[\"landing_success\"]) + \" \" + str(core[\"landing_type\"]))\n",
    "        Flights.append(core[\"flight\"])\n",
    "        GridFins.append(core[\"gridfins\"])\n",
    "        Reused.append(core[\"reused\"])\n",
    "        Legs.append(core[\"legs\"])\n",
    "        LandingPad.append(core[\"landpad\"])"
   ]
  }
 ],
 "metadata": {
  "kernelspec": {
   "display_name": "Python 3",
   "language": "python",
   "name": "python3"
  },
  "language_info": {
   "codemirror_mode": {
    "name": "ipython",
    "version": 3
   },
   "file_extension": ".py",
   "mimetype": "text/x-python",
   "name": "python",
   "nbconvert_exporter": "python",
   "pygments_lexer": "ipython3",
   "version": "3.11.3"
  }
 },
 "nbformat": 4,
 "nbformat_minor": 2
}
